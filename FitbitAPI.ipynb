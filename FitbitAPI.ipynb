{
 "cells": [
  {
   "cell_type": "code",
   "execution_count": 29,
   "metadata": {},
   "outputs": [],
   "source": [
    "import fitbit"
   ]
  },
  {
   "cell_type": "code",
   "execution_count": 44,
   "metadata": {},
   "outputs": [
    {
     "name": "stdout",
     "output_type": "stream",
     "text": [
      "Visit the following url to get your auth code: https://www.fitbit.com/oauth2/authorize?response_type=code&client_id=23BB84&redirect_uri=http%3A%2F%2Flocalhost&scope=activity+nutrition+heartrate+location+nutrition+profile+settings+sleep+social+weight\n",
      "Auth code: 581d62569dee81369ed10b4a17913002310011fe\n"
     ]
    }
   ],
   "source": [
    "api = fitbit.API(debug=True)"
   ]
  },
  {
   "cell_type": "code",
   "execution_count": 63,
   "metadata": {},
   "outputs": [
    {
     "data": {
      "text/plain": [
       "{'activities-calories': [{'dateTime': '2021-08-26', 'value': '2879'},\n",
       "  {'dateTime': '2021-08-27', 'value': '2267'},\n",
       "  {'dateTime': '2021-08-28', 'value': '4038'},\n",
       "  {'dateTime': '2021-08-29', 'value': '3249'},\n",
       "  {'dateTime': '2021-08-30', 'value': '2389'},\n",
       "  {'dateTime': '2021-08-31', 'value': '2950'},\n",
       "  {'dateTime': '2021-09-01', 'value': '2277'}]}"
      ]
     },
     "execution_count": 63,
     "metadata": {},
     "output_type": "execute_result"
    }
   ],
   "source": [
    "res = api.activity_time_series(\"calories\", \"2021-09-01\", \"7d\")\n",
    "res.json()"
   ]
  },
  {
   "cell_type": "code",
   "execution_count": 59,
   "metadata": {},
   "outputs": [
    {
     "data": {
      "text/plain": [
       "{'goals': {'distance': 56.33, 'floors': 70, 'steps': 70000}}"
      ]
     },
     "execution_count": 59,
     "metadata": {},
     "output_type": "execute_result"
    }
   ],
   "source": []
  },
  {
   "cell_type": "code",
   "execution_count": null,
   "metadata": {},
   "outputs": [],
   "source": []
  }
 ],
 "metadata": {
  "interpreter": {
   "hash": "57990f1ad2ea89c67ddae7f31d40c478205c5912da0fccfb7c5cfbb2b8bf17ad"
  },
  "kernelspec": {
   "display_name": "Python 3",
   "language": "python",
   "name": "python3"
  },
  "language_info": {
   "codemirror_mode": {
    "name": "ipython",
    "version": 3
   },
   "file_extension": ".py",
   "mimetype": "text/x-python",
   "name": "python",
   "nbconvert_exporter": "python",
   "pygments_lexer": "ipython3",
   "version": "3.8.5"
  }
 },
 "nbformat": 4,
 "nbformat_minor": 4
}
