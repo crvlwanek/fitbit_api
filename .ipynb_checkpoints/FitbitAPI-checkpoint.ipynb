{
 "cells": [
  {
   "cell_type": "code",
   "execution_count": 1,
   "metadata": {},
   "outputs": [],
   "source": [
    "import fitbit"
   ]
  },
  {
   "cell_type": "code",
   "execution_count": 2,
   "metadata": {},
   "outputs": [
    {
     "name": "stdout",
     "output_type": "stream",
     "text": [
      "Visit the following url to get your auth code: https://www.fitbit.com/oauth2/authorize?response_type=code&client_id=23BB84&redirect_uri=http%3A%2F%2Flocalhost&scope=activity+nutrition+heartrate+location+nutrition+profile+settings+sleep+social+weight\n",
      "Auth code: 11cf4117fa9419a3e62dd33a33b3c85fad29521d\n"
     ]
    }
   ],
   "source": [
    "api = fitbit.API(debug=True)"
   ]
  },
  {
   "cell_type": "code",
   "execution_count": 8,
   "metadata": {},
   "outputs": [
    {
     "data": {
      "text/plain": [
       "[{'battery': 'Low',\n",
       "  'batteryLevel': 13,\n",
       "  'deviceVersion': 'Charge 3',\n",
       "  'features': [],\n",
       "  'id': '986173408',\n",
       "  'lastSyncTime': '2021-09-10T13:57:34.000',\n",
       "  'mac': '83DA14176FC3',\n",
       "  'type': 'TRACKER'}]"
      ]
     },
     "execution_count": 8,
     "metadata": {},
     "output_type": "execute_result"
    }
   ],
   "source": [
    "res = api.devices()\n",
    "res.json()"
   ]
  },
  {
   "cell_type": "code",
   "execution_count": 9,
   "metadata": {},
   "outputs": [
    {
     "data": {
      "text/plain": [
       "'986173408'"
      ]
     },
     "execution_count": 9,
     "metadata": {},
     "output_type": "execute_result"
    }
   ],
   "source": [
    "tracker = res.json()[0]['id']\n",
    "tracker\n"
   ]
  },
  {
   "cell_type": "code",
   "execution_count": 20,
   "metadata": {},
   "outputs": [],
   "source": [
    "res = api.add_alarm(tracker, \"12:30-05:00\", False, False, \"MONDAY, TUESDAY\")"
   ]
  },
  {
   "cell_type": "code",
   "execution_count": 21,
   "metadata": {},
   "outputs": [
    {
     "data": {
      "text/plain": [
       "{'trackerAlarm': {'alarmId': 1892527369,\n",
       "  'deleted': False,\n",
       "  'enabled': False,\n",
       "  'recurring': False,\n",
       "  'snoozeCount': 3,\n",
       "  'snoozeLength': 9,\n",
       "  'syncedToDevice': True,\n",
       "  'time': '12:30-05:00',\n",
       "  'vibe': 'DEFAULT',\n",
       "  'weekDays': []}}"
      ]
     },
     "execution_count": 21,
     "metadata": {},
     "output_type": "execute_result"
    }
   ],
   "source": [
    "res.json()"
   ]
  },
  {
   "cell_type": "code",
   "execution_count": null,
   "metadata": {},
   "outputs": [],
   "source": []
  }
 ],
 "metadata": {
  "interpreter": {
   "hash": "57990f1ad2ea89c67ddae7f31d40c478205c5912da0fccfb7c5cfbb2b8bf17ad"
  },
  "kernelspec": {
   "display_name": "Python 3",
   "language": "python",
   "name": "python3"
  },
  "language_info": {
   "codemirror_mode": {
    "name": "ipython",
    "version": 3
   },
   "file_extension": ".py",
   "mimetype": "text/x-python",
   "name": "python",
   "nbconvert_exporter": "python",
   "pygments_lexer": "ipython3",
   "version": "3.8.5"
  }
 },
 "nbformat": 4,
 "nbformat_minor": 4
}
